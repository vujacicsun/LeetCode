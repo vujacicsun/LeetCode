{
 "cells": [
  {
   "cell_type": "code",
   "execution_count": 8,
   "metadata": {
    "collapsed": false
   },
   "outputs": [
    {
     "data": {
      "text/plain": [
       "425185"
      ]
     },
     "execution_count": 8,
     "metadata": {},
     "output_type": "execute_result"
    }
   ],
   "source": [
    "# Read the File\n",
    "# Project Euler 83\n",
    "import networkx as nx\n",
    "f = open('data/p083_matrix.txt')\n",
    "matrix = [[int(i) for i in j.split(',')] for j in f]\n",
    "\n",
    "n, m = len(matrix), len(matrix[0])\n",
    "\n",
    "G = nx.DiGraph()\n",
    "for i in xrange(n):\n",
    "    for j in xrange(m):\n",
    "        neighbors = [(i+x, j+y) for x, y in (-1,0), (0,-1), (1,0), (0,1) \n",
    "            if 0 <= i+x < n and 0 <= j+y < m]\n",
    "        for ix, jy in neighbors:\n",
    "            G.add_edge((i, j), (ix, jy), weight = matrix[ix][jy])\n",
    "\n",
    "nx.dijkstra_path_length(G, source=(0,0), target=(n-1,m-1)) + matrix[0][0]"
   ]
  }
 ],
 "metadata": {
  "kernelspec": {
   "display_name": "Python 2",
   "language": "python",
   "name": "python2"
  },
  "language_info": {
   "codemirror_mode": {
    "name": "ipython",
    "version": 2
   },
   "file_extension": ".py",
   "mimetype": "text/x-python",
   "name": "python",
   "nbconvert_exporter": "python",
   "pygments_lexer": "ipython2",
   "version": "2.7.9"
  }
 },
 "nbformat": 4,
 "nbformat_minor": 0
}
