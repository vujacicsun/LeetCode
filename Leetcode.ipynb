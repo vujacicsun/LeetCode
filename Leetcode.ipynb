{
 "metadata": {
  "name": "",
  "signature": "sha256:cc3bc23f1d3864757564ca65ebec28d3f9e058e47cfbd3e0466e90bc010b6958"
 },
 "nbformat": 3,
 "nbformat_minor": 0,
 "worksheets": [
  {
   "cells": [
    {
     "cell_type": "code",
     "collapsed": false,
     "input": [
      "# Solution to https://leetcode.com/problems/add-two-numbers/\n",
      "# Definition for singly-linked list.\n",
      "class ListNode(object):\n",
      "    def __init__(self, x):\n",
      "        self.val = x\n",
      "        self.next = None\n",
      "\n",
      "class Solution(object):\n",
      "    def addTwoNumbers(self, l1, l2):\n",
      "        \"\"\"\n",
      "        :type l1: ListNode\n",
      "        :type l2: ListNode\n",
      "        :rtype: ListNode\n",
      "        \"\"\"\n",
      "        forward = 0\n",
      "        ret = None\n",
      "        record = None\n",
      "        while (l1 or l2 or forward):\n",
      "            if l1 and l2:\n",
      "                new_temp = ListNode((l1.val+l2.val+forward)%10)\n",
      "                forward = (l1.val+l2.val+forward)/10\n",
      "            elif l1 and not l2:\n",
      "                new_temp = ListNode((l1.val+forward)%10)\n",
      "                forward = (l1.val+forward)/10\n",
      "            elif not l1 and l2:\n",
      "                new_temp = ListNode((l2.val+forward)%10)\n",
      "                forward = (l2.val+forward)/10\n",
      "            elif not l1 and not l2:\n",
      "                new_temp = ListNode(forward%10)\n",
      "                forward = forward/10\n",
      "            if ret==None:\n",
      "                ret = new_temp\n",
      "                record = new_temp\n",
      "            else:\n",
      "                record.next = new_temp\n",
      "                record = new_temp\n",
      "            if l1:\n",
      "                l1 = l1.next\n",
      "            if l2:\n",
      "                l2 = l2.next\n",
      "        return ret\n",
      "        "
     ],
     "language": "python",
     "metadata": {},
     "outputs": [],
     "prompt_number": 34
    },
    {
     "cell_type": "code",
     "collapsed": false,
     "input": [
      "# Util Functions\n",
      "def NodeListGen(a_list):\n",
      "    ret = ListNode(a_list[0])\n",
      "    temp = ret\n",
      "    for i in xrange(len(a_list)):\n",
      "        if i==0:\n",
      "            continue\n",
      "        else:\n",
      "            newNode = ListNode(a_list[i])\n",
      "            temp.next = newNode\n",
      "            temp = newNode\n",
      "    return ret"
     ],
     "language": "python",
     "metadata": {},
     "outputs": [],
     "prompt_number": 15
    },
    {
     "cell_type": "code",
     "collapsed": false,
     "input": [
      "a = [1, 2, 3]\n",
      "b = [2, 4, 7, 8]\n",
      "a_in = NodeListGen(a)\n",
      "b_in = NodeListGen(b)\n",
      "s = Solution()\n",
      "c = s.addTwoNumbers(a_in, b_in)\n",
      "while c:\n",
      "    print c.val\n",
      "    c = c.next"
     ],
     "language": "python",
     "metadata": {},
     "outputs": [
      {
       "output_type": "stream",
       "stream": "stdout",
       "text": [
        "3\n",
        "6\n",
        "0\n",
        "9\n"
       ]
      }
     ],
     "prompt_number": 35
    },
    {
     "cell_type": "markdown",
     "metadata": {},
     "source": [
      "Solutions to :Longest Substring Without Repeating Characters\n",
      "[Link](https://leetcode.com/problems/longest-substring-without-repeating-characters/)\n",
      "\n",
      "[C++ Code](http://www.acmerblog.com/leetcode-longest-substring-without-repeating-characters-5318.html)"
     ]
    },
    {
     "cell_type": "code",
     "collapsed": false,
     "input": [
      "# Use Set Add and Remove\n",
      "class Solution(object):\n",
      "    def lengthOfLongestSubstring(self, s):\n",
      "        \"\"\"\n",
      "        :type s: str\n",
      "        :rtype: int\n",
      "        \"\"\"\n",
      "        ret = 0\n",
      "        max_length = len(set(s))\n",
      "        i = 0\n",
      "        j = 0\n",
      "        record = set()\n",
      "        while(j<len(s)):\n",
      "            while s[j] in record:\n",
      "                record.remove(s[i])\n",
      "                i += 1\n",
      "            record.add(s[j])\n",
      "            if len(record) > ret:\n",
      "                ret = len(record)\n",
      "            j += 1\n",
      "        return ret "
     ],
     "language": "python",
     "metadata": {},
     "outputs": [],
     "prompt_number": 37
    },
    {
     "cell_type": "code",
     "collapsed": false,
     "input": [
      "class Solution(object):\n",
      "    def lengthOfLongestSubstring(self, s):\n",
      "        \"\"\"\n",
      "        :type s: str\n",
      "        :rtype: int\n",
      "        \"\"\"\n",
      "        ret = 0\n",
      "        max_length = len(set(s))\n",
      "        i = 0\n",
      "        j = 0\n",
      "        record = \"\"\n",
      "        while(j<len(s)):\n",
      "            if s[j] in record:\n",
      "                while (s[i] != s[j] and i<j):\n",
      "                    i += 1\n",
      "                i += 1\n",
      "                record = s[i:j+1]\n",
      "            else:\n",
      "                record += s[j]\n",
      "#             print record\n",
      "            if len(record) > ret:\n",
      "                ret = len(record)\n",
      "            j += 1\n",
      "        return ret "
     ],
     "language": "python",
     "metadata": {},
     "outputs": [],
     "prompt_number": 63
    },
    {
     "cell_type": "code",
     "collapsed": false,
     "input": [
      "s = Solution()\n",
      "s.lengthOfLongestSubstring('aabb')"
     ],
     "language": "python",
     "metadata": {},
     "outputs": [
      {
       "metadata": {},
       "output_type": "pyout",
       "prompt_number": 64,
       "text": [
        "2"
       ]
      }
     ],
     "prompt_number": 64
    }
   ],
   "metadata": {}
  }
 ]
}