{
 "metadata": {
  "name": "",
  "signature": "sha256:8a021a80b9fc739899c4599264d650a8b9f3e605ce3b5c93d699902ae724956b"
 },
 "nbformat": 3,
 "nbformat_minor": 0,
 "worksheets": [
  {
   "cells": [
    {
     "cell_type": "code",
     "collapsed": false,
     "input": [
      "import pandas as pd\n",
      "import numpy as np\n",
      "data = pd.DataFrame(np.arange(16).reshape((4,4)),index=['a','b','c','d'],columns=[1,2,3,4])\n",
      "type(data.ix['a',[1,2]])"
     ],
     "language": "python",
     "metadata": {},
     "outputs": [
      {
       "metadata": {},
       "output_type": "pyout",
       "prompt_number": 13,
       "text": [
        "pandas.core.series.Series"
       ]
      }
     ],
     "prompt_number": 13
    },
    {
     "cell_type": "code",
     "collapsed": false,
     "input": [
      "print data\n",
      "data[2]"
     ],
     "language": "python",
     "metadata": {},
     "outputs": [
      {
       "output_type": "stream",
       "stream": "stdout",
       "text": [
        "    1   2   3   4\n",
        "a   0   1   2   3\n",
        "b   4   5   6   7\n",
        "c   8   9  10  11\n",
        "d  12  13  14  15\n"
       ]
      },
      {
       "metadata": {},
       "output_type": "pyout",
       "prompt_number": 19,
       "text": [
        "a     1\n",
        "b     5\n",
        "c     9\n",
        "d    13\n",
        "Name: 2, dtype: int64"
       ]
      }
     ],
     "prompt_number": 19
    },
    {
     "cell_type": "code",
     "collapsed": false,
     "input": [
      "def unit_func(x):\n",
      "    print \"type is \",type(x)\n",
      "    return x.max()-x.min()\n",
      "frame = pd.DataFrame(np.random.randn(4,3),index=[1,2,3,4],columns=list('abc'))\n",
      "frame.apply(unit_func)"
     ],
     "language": "python",
     "metadata": {},
     "outputs": [
      {
       "output_type": "stream",
       "stream": "stdout",
       "text": [
        "type is  <class 'pandas.core.series.Series'>\n",
        "type is  <class 'pandas.core.series.Series'>\n",
        "type is  <class 'pandas.core.series.Series'>\n"
       ]
      },
      {
       "metadata": {},
       "output_type": "pyout",
       "prompt_number": 20,
       "text": [
        "a    0.977466\n",
        "b    3.723724\n",
        "c    1.453841\n",
        "dtype: float64"
       ]
      }
     ],
     "prompt_number": 20
    }
   ],
   "metadata": {}
  }
 ]
}