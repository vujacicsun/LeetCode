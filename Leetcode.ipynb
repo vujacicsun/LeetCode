{
 "cells": [
  {
   "cell_type": "code",
   "execution_count": 34,
   "metadata": {
    "collapsed": false
   },
   "outputs": [],
   "source": [
    "# Solution to https://leetcode.com/problems/add-two-numbers/\n",
    "# Definition for singly-linked list.\n",
    "class ListNode(object):\n",
    "    def __init__(self, x):\n",
    "        self.val = x\n",
    "        self.next = None\n",
    "\n",
    "class Solution(object):\n",
    "    def addTwoNumbers(self, l1, l2):\n",
    "        \"\"\"\n",
    "        :type l1: ListNode\n",
    "        :type l2: ListNode\n",
    "        :rtype: ListNode\n",
    "        \"\"\"\n",
    "        forward = 0\n",
    "        ret = None\n",
    "        record = None\n",
    "        while (l1 or l2 or forward):\n",
    "            if l1 and l2:\n",
    "                new_temp = ListNode((l1.val+l2.val+forward)%10)\n",
    "                forward = (l1.val+l2.val+forward)/10\n",
    "            elif l1 and not l2:\n",
    "                new_temp = ListNode((l1.val+forward)%10)\n",
    "                forward = (l1.val+forward)/10\n",
    "            elif not l1 and l2:\n",
    "                new_temp = ListNode((l2.val+forward)%10)\n",
    "                forward = (l2.val+forward)/10\n",
    "            elif not l1 and not l2:\n",
    "                new_temp = ListNode(forward%10)\n",
    "                forward = forward/10\n",
    "            if ret==None:\n",
    "                ret = new_temp\n",
    "                record = new_temp\n",
    "            else:\n",
    "                record.next = new_temp\n",
    "                record = new_temp\n",
    "            if l1:\n",
    "                l1 = l1.next\n",
    "            if l2:\n",
    "                l2 = l2.next\n",
    "        return ret\n",
    "        "
   ]
  },
  {
   "cell_type": "code",
   "execution_count": 15,
   "metadata": {
    "collapsed": false
   },
   "outputs": [],
   "source": [
    "# Util Functions\n",
    "def NodeListGen(a_list):\n",
    "    ret = ListNode(a_list[0])\n",
    "    temp = ret\n",
    "    for i in xrange(len(a_list)):\n",
    "        if i==0:\n",
    "            continue\n",
    "        else:\n",
    "            newNode = ListNode(a_list[i])\n",
    "            temp.next = newNode\n",
    "            temp = newNode\n",
    "    return ret"
   ]
  },
  {
   "cell_type": "code",
   "execution_count": 35,
   "metadata": {
    "collapsed": false
   },
   "outputs": [
    {
     "name": "stdout",
     "output_type": "stream",
     "text": [
      "3\n",
      "6\n",
      "0\n",
      "9\n"
     ]
    }
   ],
   "source": [
    "a = [1, 2, 3]\n",
    "b = [2, 4, 7, 8]\n",
    "a_in = NodeListGen(a)\n",
    "b_in = NodeListGen(b)\n",
    "s = Solution()\n",
    "c = s.addTwoNumbers(a_in, b_in)\n",
    "while c:\n",
    "    print c.val\n",
    "    c = c.next"
   ]
  },
  {
   "cell_type": "markdown",
   "metadata": {},
   "source": [
    "Solutions to :Longest Substring Without Repeating Characters\n",
    "[Link](https://leetcode.com/problems/longest-substring-without-repeating-characters/)\n",
    "\n",
    "[C++ Code](http://www.acmerblog.com/leetcode-longest-substring-without-repeating-characters-5318.html)"
   ]
  },
  {
   "cell_type": "code",
   "execution_count": 37,
   "metadata": {
    "collapsed": false
   },
   "outputs": [],
   "source": [
    "# Use Set Add and Remove\n",
    "class Solution(object):\n",
    "    def lengthOfLongestSubstring(self, s):\n",
    "        \"\"\"\n",
    "        :type s: str\n",
    "        :rtype: int\n",
    "        \"\"\"\n",
    "        ret = 0\n",
    "        max_length = len(set(s))\n",
    "        i = 0\n",
    "        j = 0\n",
    "        record = set()\n",
    "        while(j<len(s)):\n",
    "            while s[j] in record:\n",
    "                record.remove(s[i])\n",
    "                i += 1\n",
    "            record.add(s[j])\n",
    "            if len(record) > ret:\n",
    "                ret = len(record)\n",
    "            j += 1\n",
    "        return ret "
   ]
  },
  {
   "cell_type": "code",
   "execution_count": 63,
   "metadata": {
    "collapsed": false
   },
   "outputs": [],
   "source": [
    "class Solution(object):\n",
    "    def lengthOfLongestSubstring(self, s):\n",
    "        \"\"\"\n",
    "        :type s: str\n",
    "        :rtype: int\n",
    "        \"\"\"\n",
    "        ret = 0\n",
    "        max_length = len(set(s))\n",
    "        i = 0\n",
    "        j = 0\n",
    "        record = \"\"\n",
    "        while(j<len(s)):\n",
    "            if s[j] in record:\n",
    "                while (s[i] != s[j] and i<j):\n",
    "                    i += 1\n",
    "                i += 1\n",
    "                record = s[i:j+1]\n",
    "            else:\n",
    "                record += s[j]\n",
    "#             print record\n",
    "            if len(record) > ret:\n",
    "                ret = len(record)\n",
    "            j += 1\n",
    "        return ret "
   ]
  },
  {
   "cell_type": "code",
   "execution_count": 64,
   "metadata": {
    "collapsed": false
   },
   "outputs": [
    {
     "data": {
      "text/plain": [
       "2"
      ]
     },
     "execution_count": 64,
     "metadata": {},
     "output_type": "execute_result"
    }
   ],
   "source": [
    "s = Solution()\n",
    "s.lengthOfLongestSubstring('aabb')"
   ]
  },
  {
   "cell_type": "markdown",
   "metadata": {},
   "source": [
    "The Solution to [ZigZag Convertion](https://leetcode.com/problems/zigzag-conversion/)"
   ]
  },
  {
   "cell_type": "code",
   "execution_count": 11,
   "metadata": {
    "collapsed": true
   },
   "outputs": [],
   "source": [
    "class Solution(object):\n",
    "    def convert(self, s, numRows):\n",
    "        \"\"\"\n",
    "        :type s: str\n",
    "        :type numRows: int\n",
    "        :rtype: str\n",
    "        \"\"\"\n",
    "        length = len(s)\n",
    "        ret = \"\"\n",
    "        if numRows == 1:\n",
    "            return s\n",
    "        for i in range(numRows):\n",
    "            j = i\n",
    "            if j == 0 or j == numRows-1:\n",
    "                while (j < length):\n",
    "                    ret += s[j]\n",
    "                    j += 2 * (numRows-1)\n",
    "            else:\n",
    "                while (j < length):\n",
    "                    ret += s[j]\n",
    "                    j += 2 * (numRows-i-1)\n",
    "                    if j < length:\n",
    "                        ret += s[j]\n",
    "                    j += 2 * i \n",
    "        return ret"
   ]
  },
  {
   "cell_type": "code",
   "execution_count": 12,
   "metadata": {
    "collapsed": false
   },
   "outputs": [
    {
     "data": {
      "text/plain": [
       "'A'"
      ]
     },
     "execution_count": 12,
     "metadata": {},
     "output_type": "execute_result"
    }
   ],
   "source": [
    "s = Solution()\n",
    "s.convert(\"A\", 1)"
   ]
  },
  {
   "cell_type": "markdown",
   "metadata": {},
   "source": [
    "Solution to Reverse Integer"
   ]
  },
  {
   "cell_type": "code",
   "execution_count": 34,
   "metadata": {
    "collapsed": true
   },
   "outputs": [],
   "source": [
    "import sys\n",
    "class Solution(object):\n",
    "    def reverse(self, x):\n",
    "        \"\"\"\n",
    "        :type x: int\n",
    "        :rtype: int\n",
    "        \"\"\"\n",
    "        flag = 1\n",
    "        maxint = (1 << 31)-1\n",
    "#         minint = -maxint-1\n",
    "        if x < 0:\n",
    "            flag = -1\n",
    "            str_list = list(str(x))[1:][::-1]\n",
    "        else:\n",
    "            str_list = list(str(x))[::-1]\n",
    "        ret = 0\n",
    "        for i in range(len(str_list)):\n",
    "            if i < 8:\n",
    "                ret = 10 * ret + int(str_list[i])\n",
    "                continue\n",
    "            if ret > maxint/10 or (ret == maxint/10 and int(str_list[i]) > maxint%10):\n",
    "                return 0\n",
    "            else:\n",
    "                ret = 10 * ret + int(str_list[i])\n",
    "        return ret * flag"
   ]
  },
  {
   "cell_type": "code",
   "execution_count": 35,
   "metadata": {
    "collapsed": false
   },
   "outputs": [
    {
     "data": {
      "text/plain": [
       "-321"
      ]
     },
     "execution_count": 35,
     "metadata": {},
     "output_type": "execute_result"
    }
   ],
   "source": [
    "s = Solution()\n",
    "s.reverse(-123)"
   ]
  },
  {
   "cell_type": "code",
   "execution_count": 6,
   "metadata": {
    "collapsed": true
   },
   "outputs": [],
   "source": [
    "class Solution(object):\n",
    "    def myAtoi(self, str):\n",
    "        \"\"\"\n",
    "        :type str: str\n",
    "        :rtype: int\n",
    "        \"\"\"\n",
    "        INT_MAX = 2147483647\n",
    "        INT_MIN = -2147483648\n",
    "        num_len = 0\n",
    "        flag = 0\n",
    "        ret = 0\n",
    "        for i in range(len(str)):\n",
    "            if str[i] == ' ' and not flag:\n",
    "                continue\n",
    "            if str[i] == '+' and not flag:\n",
    "                flag = 1\n",
    "                continue\n",
    "            if str[i] == '-' and not flag:\n",
    "                flag = -1 \n",
    "                continue\n",
    "            if not flag and (not str[i].isdigit() and str[i] not in ['+', '-', ' ']):\n",
    "                flag = 0\n",
    "                break\n",
    "            if not str[i].isdigit() and flag:\n",
    "                flag = 0\n",
    "                break\n",
    "            if ret > INT_MAX/10 or (ret == INT_MAX/10 and INT_MAX%10 < int(str[i])):\n",
    "                flag = 0\n",
    "                break\n",
    "            if flag == 0:\n",
    "                flag = 1\n",
    "            ret = 10 * ret + int(str[i])\n",
    "        return flag * ret"
   ]
  },
  {
   "cell_type": "code",
   "execution_count": 8,
   "metadata": {
    "collapsed": false
   },
   "outputs": [
    {
     "data": {
      "text/plain": [
       "0"
      ]
     },
     "execution_count": 8,
     "metadata": {},
     "output_type": "execute_result"
    }
   ],
   "source": [
    "s = Solution()\n",
    "# print '---'\n",
    "# Expected -12\n",
    "s.myAtoi(\"  -0012a42\")"
   ]
  }
 ],
 "metadata": {
  "kernelspec": {
   "display_name": "Python 2",
   "language": "python",
   "name": "python2"
  },
  "language_info": {
   "codemirror_mode": {
    "name": "ipython",
    "version": 2
   },
   "file_extension": ".py",
   "mimetype": "text/x-python",
   "name": "python",
   "nbconvert_exporter": "python",
   "pygments_lexer": "ipython2",
   "version": "2.7.10"
  }
 },
 "nbformat": 4,
 "nbformat_minor": 0
}
